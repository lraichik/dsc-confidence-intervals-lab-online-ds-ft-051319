{
 "cells": [
  {
   "cell_type": "markdown",
   "metadata": {},
   "source": [
    "# Confidence Intervals - Lab\n",
    "\n",
    "## Introduction\n",
    "\n",
    "As we begin to talk about confidence intervals it’s important to remember the difference between a **sample distribution** and a **sampling distribution**. \n",
    "\n",
    "Remember that a sample data distribution is the distribution of the data points within a single sample.  A sampling distribution is the probability distribution a statistic can take. Also recall that, by the Central Limit Theorem, the sampling distribution of the sample mean (x_hat) is approximately normal regardless of the shape of the original distribution of the variable.\n",
    "\n",
    "As seen in previous lab,  point estimates can provide some idea of a population parameter like the mean, but estimates are prone to error and also, taking multiple samples to get improved estimates may not be feasible all the time. \n",
    "\n",
    "## Objectives\n",
    "You will be able to:\n",
    "* Calculate and interpret confidence intervals"
   ]
  },
  {
   "cell_type": "markdown",
   "metadata": {},
   "source": [
    "## Data \n",
    "\n",
    "if we wanted to know the average age of registered voters in some elections, we could take a survey of registered voters and then use the average age of the respondents as a point estimate of the average age of the population as a whole.\n",
    "\n",
    "In previous lab we saw that sample mean is usually not exactly the same as the population mean. This difference can be caused by many factors including poor survey design, biased sampling methods and the randomness inherent to drawing a sample from a population. Let's run a simulation to investigate point estimates by generating a population of random age data and then drawing a sample from it to estimate the mean:"
   ]
  },
  {
   "cell_type": "code",
   "execution_count": 1,
   "metadata": {},
   "outputs": [],
   "source": [
    "# Import necessary libraries\n",
    "import numpy as np\n",
    "import scipy as sp\n",
    "import pandas as pd\n",
    "import scipy.stats as stats\n",
    "import seaborn as sns\n",
    "import matplotlib.pyplot as plt\n",
    "import math\n",
    "\n",
    "# Plot styles\n",
    "plt.style.use('fivethirtyeight')\n",
    "%config InlineBackend.figure_format = 'retina'\n",
    "%matplotlib inline"
   ]
  },
  {
   "cell_type": "markdown",
   "metadata": {},
   "source": [
    "The Poisson distribution is the discrete probability distribution of the number of events occurring in a given time period, given the average number of times the event occurs over that time period. We shall use a poisson distribution to express a bimodal distribution. (Poisson distribution will be covered in detail in a later lesson) "
   ]
  },
  {
   "cell_type": "code",
   "execution_count": 2,
   "metadata": {},
   "outputs": [],
   "source": [
    "np.random.seed(15)\n",
    "population_ages1 = stats.poisson.rvs(loc=18, mu=35, size=150000)\n",
    "population_ages2 = stats.poisson.rvs(loc=18, mu=10, size=100000)\n",
    "population_ages = np.concatenate((population_ages1, population_ages2))"
   ]
  },
  {
   "cell_type": "markdown",
   "metadata": {},
   "source": [
    "Calculate the mean for population and visualize the distribution. Also, describe the solution using five point statistics. (hint: convert the population_ages array into a dataframe)"
   ]
  },
  {
   "cell_type": "code",
   "execution_count": 3,
   "metadata": {},
   "outputs": [
    {
     "data": {
      "text/html": [
       "<div>\n",
       "<style scoped>\n",
       "    .dataframe tbody tr th:only-of-type {\n",
       "        vertical-align: middle;\n",
       "    }\n",
       "\n",
       "    .dataframe tbody tr th {\n",
       "        vertical-align: top;\n",
       "    }\n",
       "\n",
       "    .dataframe thead th {\n",
       "        text-align: right;\n",
       "    }\n",
       "</style>\n",
       "<table border=\"1\" class=\"dataframe\">\n",
       "  <thead>\n",
       "    <tr style=\"text-align: right;\">\n",
       "      <th></th>\n",
       "      <th>0</th>\n",
       "    </tr>\n",
       "  </thead>\n",
       "  <tbody>\n",
       "    <tr>\n",
       "      <th>count</th>\n",
       "      <td>250000.000000</td>\n",
       "    </tr>\n",
       "    <tr>\n",
       "      <th>mean</th>\n",
       "      <td>42.985332</td>\n",
       "    </tr>\n",
       "    <tr>\n",
       "      <th>std</th>\n",
       "      <td>13.211628</td>\n",
       "    </tr>\n",
       "    <tr>\n",
       "      <th>min</th>\n",
       "      <td>18.000000</td>\n",
       "    </tr>\n",
       "    <tr>\n",
       "      <th>25%</th>\n",
       "      <td>29.000000</td>\n",
       "    </tr>\n",
       "    <tr>\n",
       "      <th>50%</th>\n",
       "      <td>47.000000</td>\n",
       "    </tr>\n",
       "    <tr>\n",
       "      <th>75%</th>\n",
       "      <td>54.000000</td>\n",
       "    </tr>\n",
       "    <tr>\n",
       "      <th>max</th>\n",
       "      <td>84.000000</td>\n",
       "    </tr>\n",
       "  </tbody>\n",
       "</table>\n",
       "</div>"
      ],
      "text/plain": [
       "                   0\n",
       "count  250000.000000\n",
       "mean       42.985332\n",
       "std        13.211628\n",
       "min        18.000000\n",
       "25%        29.000000\n",
       "50%        47.000000\n",
       "75%        54.000000\n",
       "max        84.000000"
      ]
     },
     "execution_count": 3,
     "metadata": {},
     "output_type": "execute_result"
    }
   ],
   "source": [
    "\n",
    "# Convert the population into a pandas dataframe pop_ages\n",
    "pop_ages = pd.DataFrame(population_ages)\n",
    "\n",
    "# Calculate and print descriptive statistics for pop_ages\n",
    "pop_ages.describe()\n",
    "# The mean of population is: 42.985332\n",
    "\n",
    "# count\t250000 \n",
    "# mean\t42.985332\n",
    "# std\t13.211628\n",
    "# min\t18.000000\n",
    "# 25%\t29.000000\n",
    "# 50%\t47.000000\n",
    "# 75%\t54.000000\n",
    "# max\t84.000000\n"
   ]
  },
  {
   "cell_type": "code",
   "execution_count": 4,
   "metadata": {},
   "outputs": [
    {
     "data": {
      "text/plain": [
       "array([[<matplotlib.axes._subplots.AxesSubplot object at 0x000002B393695EB8>]],\n",
       "      dtype=object)"
      ]
     },
     "execution_count": 4,
     "metadata": {},
     "output_type": "execute_result"
    },
    {
     "data": {
      "image/png": "[encoded data removed]",
      "text/plain": [
       "<Figure size 432x288 with 1 Axes>"
      ]
     },
     "metadata": {
      "image/png": {
       "height": 261,
       "width": 425
      },
      "needs_background": "light"
     },
     "output_type": "display_data"
    }
   ],
   "source": [
    "# Draw a histogram for pop ages\n",
    "pop_ages.hist(bins=20)"
   ]
  },
  {
   "cell_type": "markdown",
   "metadata": {},
   "source": [
    "Lets take a random sample of size 500 from this distribution and calculate sample mean and standard deviation. Also, work out the difference between population and sample mean "
   ]
  },
  {
   "cell_type": "code",
   "execution_count": 20,
   "metadata": {},
   "outputs": [
    {
     "name": "stdout",
     "output_type": "stream",
     "text": [
      "Sample mean: 43.49\n",
      "Sample std.: 12.98529552994463\n",
      "Difference between means: -0.5046680000000023\n"
     ]
    }
   ],
   "source": [
    "np.random.seed(15)\n",
    "\n",
    "# Take random sample of size 500\n",
    "sample_size = 500\n",
    "sample = np.random.choice(pop_ages[0], size=sample_size)\n",
    "\n",
    "# Calculate sample mean and standard deviation\n",
    "sample_mean = sample.mean()\n",
    "sample_std = sample.std()\n",
    "\n",
    "print (\"Sample mean:\", sample_mean)\n",
    "print (\"Sample std.:\", sample_std)\n",
    "print (\"Difference between means:\", population_ages.mean() - sample_mean)\n",
    "\n",
    "# Sample mean: 43.49 \n",
    "# Sample std.: 12.98529552994463\n",
    "# Difference between means: -0.5046680000000023"
   ]
  },
  {
   "cell_type": "markdown",
   "metadata": {},
   "source": [
    "We can see there is a small difference between sample mean and population mean. A increase in sample size can help reduce this difference. \n",
    "\n",
    "The central limit theorem states the distribution of **many sample means**, known as a **sampling distribution**, will be normally distributed. This rule holds even if the underlying distribution itself is not normally distributed as we saw above. \n",
    "\n",
    "As a result we can treat the sample mean as if it were drawn from a normal distribution. \n",
    "\n",
    "To illustrate, let's create a sampling distribution by taking 100 samples from our population and then making 100 point estimates of the mean. Calculate the mean and standard deviation of sample means.\n"
   ]
  },
  {
   "cell_type": "code",
   "execution_count": 30,
   "metadata": {},
   "outputs": [
    {
     "data": {
      "text/html": [
       "<div>\n",
       "<style scoped>\n",
       "    .dataframe tbody tr th:only-of-type {\n",
       "        vertical-align: middle;\n",
       "    }\n",
       "\n",
       "    .dataframe tbody tr th {\n",
       "        vertical-align: top;\n",
       "    }\n",
       "\n",
       "    .dataframe thead th {\n",
       "        text-align: right;\n",
       "    }\n",
       "</style>\n",
       "<table border=\"1\" class=\"dataframe\">\n",
       "  <thead>\n",
       "    <tr style=\"text-align: right;\">\n",
       "      <th></th>\n",
       "      <th>0</th>\n",
       "    </tr>\n",
       "  </thead>\n",
       "  <tbody>\n",
       "    <tr>\n",
       "      <th>count</th>\n",
       "      <td>100.000000</td>\n",
       "    </tr>\n",
       "    <tr>\n",
       "      <th>mean</th>\n",
       "      <td>42.968100</td>\n",
       "    </tr>\n",
       "    <tr>\n",
       "      <th>std</th>\n",
       "      <td>1.427165</td>\n",
       "    </tr>\n",
       "    <tr>\n",
       "      <th>min</th>\n",
       "      <td>39.860000</td>\n",
       "    </tr>\n",
       "    <tr>\n",
       "      <th>25%</th>\n",
       "      <td>41.977500</td>\n",
       "    </tr>\n",
       "    <tr>\n",
       "      <th>50%</th>\n",
       "      <td>43.110000</td>\n",
       "    </tr>\n",
       "    <tr>\n",
       "      <th>75%</th>\n",
       "      <td>43.965000</td>\n",
       "    </tr>\n",
       "    <tr>\n",
       "      <th>max</th>\n",
       "      <td>47.170000</td>\n",
       "    </tr>\n",
       "  </tbody>\n",
       "</table>\n",
       "</div>"
      ],
      "text/plain": [
       "                0\n",
       "count  100.000000\n",
       "mean    42.968100\n",
       "std      1.427165\n",
       "min     39.860000\n",
       "25%     41.977500\n",
       "50%     43.110000\n",
       "75%     43.965000\n",
       "max     47.170000"
      ]
     },
     "execution_count": 30,
     "metadata": {},
     "output_type": "execute_result"
    }
   ],
   "source": [
    "# np.random.seed(15)\n",
    "\n",
    "point_estimates = []         # Make empty list to hold point estimates\n",
    "\n",
    "# Take 100 samples and generate 100 point estimates using a for loop. \n",
    "# append sample means to get point estimates\n",
    "for i in range(100):\n",
    "    sample = np.random.choice(pop_ages[0], size=100)\n",
    "    point_estimates.append(sample.mean())\n",
    "    \n",
    "\n",
    "# Convert the point_estimates into a pandas dataframe\n",
    "# Calculate and print descriptive statistics for the dataframe\n",
    "newdf = pd.DataFrame(point_estimates)\n",
    "newdf.describe()\n",
    "# count\t100.000000\n",
    "# mean\t42.959380\n",
    "# std\t0.586404\n",
    "# min\t41.296000\n",
    "# 25%\t42.530000\n",
    "# 50%\t42.960000\n",
    "# 75%\t43.356000\n",
    "# max\t44.492000\n"
   ]
  },
  {
   "cell_type": "markdown",
   "metadata": {},
   "source": [
    "Let's visualise the distribution of sample means to check for the normality."
   ]
  },
  {
   "cell_type": "code",
   "execution_count": 32,
   "metadata": {},
   "outputs": [
    {
     "data": {
      "text/plain": [
       "<matplotlib.axes._subplots.AxesSubplot at 0x2b39403c7b8>"
      ]
     },
     "execution_count": 32,
     "metadata": {},
     "output_type": "execute_result"
    },
    {
     "data": {
      "image/png": "[encoded data removed]",
      "text/plain": [
       "<Figure size 360x360 with 1 Axes>"
      ]
     },
     "metadata": {
      "image/png": {
       "height": 299,
       "width": 375
      },
      "needs_background": "light"
     },
     "output_type": "display_data"
    }
   ],
   "source": [
    "#Visualize the point estimates by plotting a density plot (use pandas)\n",
    "pd.DataFrame(point_estimates).plot(kind=\"density\", figsize=(5,5), xlim=(40,45))"
   ]
  },
  {
   "cell_type": "markdown",
   "metadata": {},
   "source": [
    "The sampling distribution appears to be roughly normal, despite the bimodal population distribution that the samples were drawn from. This is where central limit theorem comes into play. In addition, the mean of the sampling distribution approaches the true population mean. The more samples we take, the better our estimate of the population parameter is likely to be. "
   ]
  },
  {
   "cell_type": "markdown",
   "metadata": {},
   "source": [
    "## What is a Confidence Interval?\n",
    "\n",
    "A **Confidence Interval** is a range of values above and below the point estimate that captures the true population parameter at some predetermined confidence level. If we **want** to have a 95% chance of capturing the true population parameter with a point estimate and a corresponding confidence interval, we would set confidence level to 95%. *Higher confidence levels result in a wider confidence intervals.*\n",
    "\n",
    "We calculate a confidence interval by taking a point estimate and then adding and subtracting a **margin of error** to create a range. Margin of error is based on your desired confidence level, the spread of the data and the size of your sample. The way you calculate the margin of error depends on whether you know the standard deviation of the population or not.\n",
    "\n",
    "the margin of error for a known population stadard deviation is:\n",
    "\n",
    "> ** Margin of Error = z ∗ σ / √n**\n",
    "\n",
    "Where σ (sigma) is the population standard deviation, n is sample size, and z is a number known as the z-critical value. \n",
    "\n",
    ">The z-critical value is the number of standard deviations you'd have to go from the mean of the normal distribution to capture the proportion of the data associated with the desired confidence level. \n",
    "\n",
    "For instance, we know that roughly 95% of the data in a normal distribution lies within 2 standard deviations of the mean, so we could use 2 as the z-critical value for a 95% confidence interval as shown in this image:\n",
    "![](images/Normal-Distribution.png)\n",
    "\n",
    "**If we want our confidence level — i.e., how confident we are that the true value of the parameter lies within the confidence interval — to be:**\n",
    "- **90%**: The z-score multiplier should be **z = 1.645**, because 90% of the area under the $Z ~ N(0, 1)$ normal distribution lies between -1.645 and 1.645.\n",
    "- **95%**: The z-score multiplier should be **z = 1.96**, because 95% of the area under the $Z ~ N(0, 1)$ normal distribution lies between -1.96 and 1.96.\n",
    "- **99%**: The z-score multiplier should be **z = 2.575**, because 99% of the area under the $Z ~ N(0, 1)$ normal distribution lies between -2.575 and 2.575.\n",
    "\n",
    "It is more auitable to get z-critical values with `stats.norm.ppf()` as the results are more accurate results.\n",
    "> **`stats.norm.ppf(q, loc=0, scale=1)`**\tis a percent point function (inverse of cdf — percentiles).\n",
    "\n",
    "Create a function to input population and sample data to calculate the confidence intervals"
   ]
  },
  {
   "cell_type": "code",
   "execution_count": 41,
   "metadata": {},
   "outputs": [
    {
     "name": "stdout",
     "output_type": "stream",
     "text": [
      "z-critical value:\n",
      "1.959963984540054\n",
      "\n",
      "Margin of error\n",
      "1.158026699800684\n",
      "\n",
      "Confidence interval:\n",
      "(42.017973300199316, 44.33402669980069)\n"
     ]
    }
   ],
   "source": [
    "def conf_interval(pop, sample):\n",
    "    '''\n",
    "    Function input: population , sample \n",
    "    Function output: z-critical, Margin of error, Confidence interval\n",
    "    '''\n",
    "    sample_size = 500\n",
    "    n = len(sample)\n",
    "    x_hat = sample.mean()\n",
    "\n",
    "    # Calculate the z-critical value using stats.norm.ppf()\n",
    "    # Note that we use stats.norm.ppf(q = 0.975) to get the desired z-critical value \n",
    "    # instead of q = 0.95 because the distribution has two tails.\n",
    "    z = stats.norm.ppf(q = 0.975)  #  z-critical value for 95% confidence\n",
    "\n",
    "    #Calculate the population std from data\n",
    "    pop_stdev = population_ages.std()\n",
    "\n",
    "    # Calculate the margin of error using formula given above\n",
    "    moe = z*(pop_stdev/np.sqrt(sample_size))\n",
    "\n",
    "    # Calculate the confidence interval by applying margin of error to sample mean \n",
    "    # (mean - margin of error, mean+ margin of error)\n",
    "    conf = x_hat - moe,x_hat+moe\n",
    "    \n",
    "    return z, moe, conf\n",
    "\n",
    "# Call above function with sample and population \n",
    "z_critical, margin_of_error, confidence_interval = conf_interval(population_ages, sample)    \n",
    "    \n",
    "    \n",
    "\n",
    "print(\"z-critical value:\")              \n",
    "print(z_critical)         \n",
    "print ('\\nMargin of error')\n",
    "print(margin_of_error)\n",
    "print(\"\\nConfidence interval:\")\n",
    "print(confidence_interval)\n",
    "\n",
    "# z-critical value:\n",
    "# 1.959963984540054\n",
    "\n",
    "# Margin of error\n",
    "# 1.158026699800684\n",
    "\n",
    "# Confidence interval:\n",
    "# (41.86997330019931, 44.186026699800685)"
   ]
  },
  {
   "cell_type": "markdown",
   "metadata": {},
   "source": [
    "> Note that with calculated confidence intervals, we captured the true population mean of 42.9"
   ]
  },
  {
   "cell_type": "markdown",
   "metadata": {},
   "source": [
    "We can create several such confidence intervals and visualise them to get a better sense of what it means to \"capture\" the true mean. \n",
    "\n",
    "Lets set a sample size of 1000 and take 25 samples to calculate the confidence intervals using function above. "
   ]
  },
  {
   "cell_type": "code",
   "execution_count": 42,
   "metadata": {},
   "outputs": [],
   "source": [
    "np.random.seed(12)\n",
    "\n",
    "# Select the sample size \n",
    "sample_size = 1000\n",
    "\n",
    "# Initialize lists to store interval and mean values\n",
    "intervals = []\n",
    "sample_means = []\n",
    "\n",
    "# Run a for loop for sampling 25 times and calculate + store confidence interval and sample mean values\n",
    "\n",
    "for sample in range(25):\n",
    "    # Take a random sample of chosen size \n",
    "    sample = None\n",
    "    \n",
    "    # Calculate z_critical, margin_of_error, confidence_interval from function above\n",
    "    #z_critical, margin_of_error, confidence_interval = conf_interval(population_ages, sample)    \n",
    "\n",
    "    sample_mean = None\n",
    "    \n",
    "    # Calculate and append sample means and conf intervals for each iteration\n",
    "\n"
   ]
  },
  {
   "cell_type": "code",
   "execution_count": 43,
   "metadata": {},
   "outputs": [],
   "source": [
    "np.random.seed(12)\n",
    "\n",
    "# Select the sample size \n",
    "sample_size = 1000\n",
    "\n",
    "# Initialize lists to store interval and mean values\n",
    "intervals = []\n",
    "sample_means = []\n",
    "\n",
    "# Run a for loop for sampling 25 times and calculate + store confidence interval and sample mean values\n",
    "\n",
    "for sample in range(25):\n",
    "    # Take a random sample of chosen size \n",
    "    sample = np.random.choice(a= population_ages, size = sample_size)\n",
    "    sample_mean = sample.mean()\n",
    "    sample_means.append(sample_mean)\n",
    "\n",
    "    z_critical = stats.norm.ppf(q = 0.975)  # Get the z-critical value*        \n",
    "    \n",
    "    # Calculate z_critical, margin_of_error, confidence_interval from function above\n",
    "    # z_critical, margin_of_error, confidence_interval = conf_interval(population_ages, sample)    \n",
    "\n",
    "    pop_stdev = population_ages.std()  # Get the population standard deviation\n",
    "\n",
    "    stats.norm.ppf(q = 0.025)\n",
    "\n",
    "    margin_of_error = z_critical * (pop_stdev/math.sqrt(sample_size))\n",
    "\n",
    "    confidence_interval = (sample_mean - margin_of_error,\n",
    "                           sample_mean + margin_of_error)  \n",
    "    \n",
    "    intervals.append(confidence_interval)\n"
   ]
  },
  {
   "cell_type": "code",
   "execution_count": 40,
   "metadata": {},
   "outputs": [
    {
     "data": {
      "text/plain": [
       "<matplotlib.collections.LineCollection at 0x2b39400e2e8>"
      ]
     },
     "execution_count": 40,
     "metadata": {},
     "output_type": "execute_result"
    },
    {
     "data": {
      "image/png": "[encoded data removed]",
      "text/plain": [
       "<Figure size 1080x648 with 1 Axes>"
      ]
     },
     "metadata": {
      "image/png": {
       "height": 516,
       "width": 979
      },
      "needs_background": "light"
     },
     "output_type": "display_data"
    }
   ],
   "source": [
    "# plot the mean and confidence interval for each sample as error bars\n",
    "# plot the population mean \n",
    "\n",
    "plt.figure(figsize=(15,9))\n",
    "\n",
    "plt.errorbar(x=np.arange(0.1, 25, 1), \n",
    "             y=sample_means, \n",
    "             yerr=[(top-bot)/2 for top,bot in intervals],\n",
    "             fmt='o')\n",
    "\n",
    "plt.hlines(xmin=0, xmax=25,\n",
    "           y=43.0023, \n",
    "           linewidth=2.0,\n",
    "           color=\"red\")\n"
   ]
  },
  {
   "cell_type": "markdown",
   "metadata": {},
   "source": [
    "Notice that in the plot above, most of the 95% confidence intervals overlap the red line marking the true mean. This is to be expected: since a 95% confidence interval captures the true mean 95% of the time, we'd expect our interval to miss the true mean 5% of the time.\n",
    "\n",
    "## Interpreting the Confidence Interval\n",
    "\n",
    "There are two interpretations we can derive from above simulation, and one of them is wrong.\n",
    "\n",
    "\n",
    "**Interpretation 1 (incorrect):**\n",
    "> There is a 95% probability that the mean voter age is between 41.6 and 43.9.\n",
    "\n",
    "**Interpretation 2 (correct):**\n",
    " >If we pulled 100 samples and constructed confidence intervals in the same manner, we expect that 95 of the intervals would contain the true mean of population age. \n",
    "\n",
    "Why is interpretation 1 wrong? It assigns a probability to the true value. In Frequentist statistics, the true value is fixed and the data is random. Confidence intervals make a statement of probability about the confidence interval range that could contain the true value."
   ]
  },
  {
   "cell_type": "markdown",
   "metadata": {},
   "source": [
    "## Summary\n",
    "\n",
    "In this lab we saw an introduction to confidence intervals and how to construct them from random samples. We also saw how due to central limit theorem, the mean of sample means tend to be a normal distribution even if population is bimodal. We also saw how z value can be used to define the confidence interval based on confidence level required and the size of samples. We learned how to correctly interpret a confidence interval. "
   ]
  }
 ],
 "metadata": {
  "kernelspec": {
   "display_name": "Python 3",
   "language": "python",
   "name": "python3"
  },
  "language_info": {
   "codemirror_mode": {
    "name": "ipython",
    "version": 3
   },
   "file_extension": ".py",
   "mimetype": "text/x-python",
   "name": "python",
   "nbconvert_exporter": "python",
   "pygments_lexer": "ipython3",
   "version": "3.6.6"
  }
 },
 "nbformat": 4,
 "nbformat_minor": 2
}
